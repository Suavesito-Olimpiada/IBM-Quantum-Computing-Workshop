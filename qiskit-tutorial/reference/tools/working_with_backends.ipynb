{
 "cells": [
  {
   "cell_type": "markdown",
   "metadata": {},
   "source": [
    "<img src=\"../../images/qiskit-heading.gif\" alt=\"Note: In order for images to show up in this jupyter notebook you need to select File => Trusted Notebook\" width=\"500 px\" align=\"left\">"
   ]
  },
  {
   "cell_type": "markdown",
   "metadata": {},
   "source": [
    "# _*Working with Different Backends*_ \n",
    "\n",
    "In this tutorial, we will first describe the various [backends](#backends) available in QISKit and how to find out more information about each of them, then we will explore how QISKit allows you to compile and run the same quantum circuit on different backends with different topology. \n",
    "\n",
    "The latest version of this notebook is available on https://github.com/QISKit/qiskit-tutorial.\n",
    "\n",
    "***\n",
    "### Contributors\n",
    "Jay Gambetta, Joe Hellmers, Anna Phan"
   ]
  },
  {
   "cell_type": "markdown",
   "metadata": {},
   "source": [
    "## The Backends<a id='backends'></a>\n",
    "\n",
    "At the core of QISKit is the ability to access different backends to run your quantum programs. These backends are real devices, online simulators, and local simulations. As we continue to increase the flexibility of QISKit we expect there to be many different backends. These will include new hardware with different number of qubits, connectivity, different gate sets, and simulators with different properties. \n",
    "\n",
    "Current devices can be found on the devices page of the IBM Q Experience\n",
    "\n",
    "Current simulators:\n",
    "* QASM simulators - these simulate a quantum circuit and predict the outcomes of a quantum experiment.\n",
    "    * Online QASM simulator – this runs online and can be used for up to 20 qubits with conditionals. \n",
    "    * Online HPC QASM simulator – this runs online and can be used for up to 32 qubits without conditionals. \n",
    "    * Local QASM simulator - this runs on your local machine, and should only be used for less than 10 qubits. \n",
    "* Local unitary simulator – predicts the unitary of a quantum circuit without measurement and conditional operations.\n",
    "* Local statevector simulator - predicts the statevector of a quantum circuit without measurement and conditional operations.\n",
    "\n",
    "The three important parts of our backends are: a provider, a backend, and a job object. The provider allows local and remote providers to be registered. QISkit comes with the default local provider which is a collection of simulators and it is simple to register the remote IBMQ provider. Each provider will give you access to different backends, which allow you to submit jobs to be run on the providers backends.\n",
    "\n",
    "NOTE THIS IS WORK IN PROGRESS WHILE WE PUT THE SCHEMAS INTO THE BACKENDS"
   ]
  },
  {
   "cell_type": "code",
   "execution_count": 1,
   "metadata": {},
   "outputs": [
    {
     "name": "stdout",
     "output_type": "stream",
     "text": [
      "Please input your token and hit enter: ········\n",
      "Qconfig.py not found in qiskit-tutorial directory; Qconfig loaded using user input.\n"
     ]
    }
   ],
   "source": [
    "import sys, time, getpass\n",
    "try:\n",
    "    sys.path.append(\"../../\") # go to parent dir\n",
    "    import Qconfig\n",
    "    qx_config = {\n",
    "        \"APItoken\": Qconfig.APItoken,\n",
    "        \"url\": Qconfig.config['url']}\n",
    "    print('Qconfig loaded from %s.' % Qconfig.__file__)\n",
    "except:\n",
    "    APItoken = getpass.getpass('Please input your token and hit enter: ')\n",
    "    qx_config = {\n",
    "        \"APItoken\": APItoken,\n",
    "        \"url\":\"https://quantumexperience.ng.bluemix.net/api\"}\n",
    "    print('Qconfig.py not found in qiskit-tutorial directory; Qconfig loaded using user input.')"
   ]
  },
  {
   "cell_type": "code",
   "execution_count": 2,
   "metadata": {},
   "outputs": [],
   "source": [
    "from qiskit import QuantumCircuit, ClassicalRegister, QuantumRegister, QISKitError, QuantumJob\n",
    "from qiskit import available_backends, execute, register, get_backend, compile\n",
    "\n",
    "from qiskit.tools.visualization import plot_histogram\n",
    "from pprint import pprint"
   ]
  },
  {
   "cell_type": "markdown",
   "metadata": {},
   "source": [
    "### The Local and IBMQ providers\n",
    "\n",
    "A provider must be registered and it must support three funtions: `available_backends()` and `get_backend()` and a method to register the provider.\n",
    "\n",
    "```\n",
    "available_backends() - list all the backends of the resistered backends\n",
    "```\n",
    "```\n",
    "get_backend('name') - get a backend instance from a name \n",
    "```\n",
    "\n",
    "Lets start with the  `available_backends()` command"
   ]
  },
  {
   "cell_type": "code",
   "execution_count": 3,
   "metadata": {},
   "outputs": [
    {
     "data": {
      "text/plain": [
       "['local_clifford_simulator',\n",
       " 'local_statevector_simulator',\n",
       " 'local_unitary_simulator',\n",
       " 'local_qasm_simulator']"
      ]
     },
     "execution_count": 3,
     "metadata": {},
     "output_type": "execute_result"
    }
   ],
   "source": [
    "available_backends()"
   ]
  },
  {
   "cell_type": "markdown",
   "metadata": {},
   "source": [
    "This list is compact and picks the best of the diffent types. To list all the backends not just alias you can use:"
   ]
  },
  {
   "cell_type": "code",
   "execution_count": 4,
   "metadata": {},
   "outputs": [
    {
     "data": {
      "text/plain": [
       "['local_qasm_simulator_cpp',\n",
       " 'local_qasm_simulator_py',\n",
       " 'local_statevector_simulator_cpp',\n",
       " 'local_statevector_simulator_py',\n",
       " 'local_statevector_simulator_sympy',\n",
       " 'local_unitary_simulator_sympy',\n",
       " 'local_unitary_simulator_py',\n",
       " 'local_clifford_simulator_cpp']"
      ]
     },
     "execution_count": 4,
     "metadata": {},
     "output_type": "execute_result"
    }
   ],
   "source": [
    "available_backends(compact=False)"
   ]
  },
  {
   "cell_type": "markdown",
   "metadata": {},
   "source": [
    "To addd the IBMQ provider you need to register it using\n",
    "\n",
    "```\n",
    "register(arg,...)\n",
    "```"
   ]
  },
  {
   "cell_type": "code",
   "execution_count": 5,
   "metadata": {},
   "outputs": [
    {
     "data": {
      "text/plain": [
       "['local_clifford_simulator',\n",
       " 'ibmqx_hpc_qasm_simulator',\n",
       " 'ibmqx4',\n",
       " 'ibmqx5',\n",
       " 'ibmqx2',\n",
       " 'local_unitary_simulator',\n",
       " 'local_qasm_simulator',\n",
       " 'local_statevector_simulator',\n",
       " 'ibmqx_qasm_simulator']"
      ]
     },
     "execution_count": 5,
     "metadata": {},
     "output_type": "execute_result"
    }
   ],
   "source": [
    "register(qx_config['APItoken'], qx_config['url'])\n",
    "available_backends()"
   ]
  },
  {
   "cell_type": "markdown",
   "metadata": {},
   "source": [
    "The `available_backends` function can also use filters.\n",
    "\n",
    "Filter: show remote backends only"
   ]
  },
  {
   "cell_type": "code",
   "execution_count": 6,
   "metadata": {},
   "outputs": [
    {
     "data": {
      "text/plain": [
       "['ibmqx4',\n",
       " 'ibmqx_hpc_qasm_simulator',\n",
       " 'ibmqx5',\n",
       " 'ibmqx2',\n",
       " 'ibmqx_qasm_simulator']"
      ]
     },
     "execution_count": 6,
     "metadata": {},
     "output_type": "execute_result"
    }
   ],
   "source": [
    "available_backends({'local': False})"
   ]
  },
  {
   "cell_type": "markdown",
   "metadata": {},
   "source": [
    "Filter: show only local backends"
   ]
  },
  {
   "cell_type": "code",
   "execution_count": 7,
   "metadata": {},
   "outputs": [
    {
     "data": {
      "text/plain": [
       "['local_clifford_simulator',\n",
       " 'local_statevector_simulator',\n",
       " 'local_unitary_simulator',\n",
       " 'local_qasm_simulator']"
      ]
     },
     "execution_count": 7,
     "metadata": {},
     "output_type": "execute_result"
    }
   ],
   "source": [
    "available_backends({'local': True})"
   ]
  },
  {
   "cell_type": "markdown",
   "metadata": {},
   "source": [
    "Filer: show only simulators"
   ]
  },
  {
   "cell_type": "code",
   "execution_count": 8,
   "metadata": {},
   "outputs": [
    {
     "data": {
      "text/plain": [
       "['local_clifford_simulator',\n",
       " 'ibmqx_hpc_qasm_simulator',\n",
       " 'local_unitary_simulator',\n",
       " 'local_qasm_simulator',\n",
       " 'local_statevector_simulator',\n",
       " 'ibmqx_qasm_simulator']"
      ]
     },
     "execution_count": 8,
     "metadata": {},
     "output_type": "execute_result"
    }
   ],
   "source": [
    "available_backends({'simulator': True})"
   ]
  },
  {
   "cell_type": "markdown",
   "metadata": {},
   "source": [
    "Fileter: show only real devices"
   ]
  },
  {
   "cell_type": "code",
   "execution_count": 9,
   "metadata": {},
   "outputs": [
    {
     "data": {
      "text/plain": [
       "['ibmqx2', 'ibmqx4', 'ibmqx5']"
      ]
     },
     "execution_count": 9,
     "metadata": {},
     "output_type": "execute_result"
    }
   ],
   "source": [
    "available_backends({'simulator': False})"
   ]
  },
  {
   "cell_type": "markdown",
   "metadata": {},
   "source": [
    "Filter: show both a remote backend and a simulator backend"
   ]
  },
  {
   "cell_type": "code",
   "execution_count": 10,
   "metadata": {},
   "outputs": [
    {
     "data": {
      "text/plain": [
       "['ibmqx_hpc_qasm_simulator', 'ibmqx_qasm_simulator']"
      ]
     },
     "execution_count": 10,
     "metadata": {},
     "output_type": "execute_result"
    }
   ],
   "source": [
    "available_backends({'local': False, 'simulator': True})"
   ]
  },
  {
   "cell_type": "markdown",
   "metadata": {},
   "source": [
    "The second function `get_backend()` allows you to make a backend instance"
   ]
  },
  {
   "cell_type": "code",
   "execution_count": 11,
   "metadata": {},
   "outputs": [
    {
     "data": {
      "text/plain": [
       "[<qiskit.backends.local.qasm_simulator_cpp.CliffordSimulatorCpp at 0x150a4800b8>,\n",
       " <qiskit.backends.ibmq.ibmqbackend.IBMQBackend at 0x150b6627b8>,\n",
       " <qiskit.backends.ibmq.ibmqbackend.IBMQBackend at 0x150b662390>,\n",
       " <qiskit.backends.ibmq.ibmqbackend.IBMQBackend at 0x150b662198>,\n",
       " <qiskit.backends.ibmq.ibmqbackend.IBMQBackend at 0x150b6622b0>,\n",
       " <qiskit.backends.local.unitary_simulator_py.UnitarySimulatorPy at 0x150a1d7908>,\n",
       " <qiskit.backends.local.qasm_simulator_cpp.QasmSimulatorCpp at 0x150a1cdeb8>,\n",
       " <qiskit.backends.local.statevector_simulator_cpp.StatevectorSimulatorCpp at 0x150a1d70b8>,\n",
       " <qiskit.backends.ibmq.ibmqbackend.IBMQBackend at 0x150b67a550>]"
      ]
     },
     "execution_count": 11,
     "metadata": {},
     "output_type": "execute_result"
    }
   ],
   "source": [
    "backends = []\n",
    "for backend in available_backends():\n",
    "    backends.append(get_backend(backend))\n",
    "backends"
   ]
  },
  {
   "cell_type": "markdown",
   "metadata": {},
   "source": [
    "### The Backends\n",
    "\n",
    "The next part is the backend instances. These backends must support the following functions:\n",
    "\n",
    "```\n",
    "configuration - gets the configuration of the backend.\n",
    "```\n",
    "```\n",
    "properties -  gets the properties of the backend (calibrations and parameters are going to be combined).\n",
    "```\n",
    "```\n",
    "schema -  returns the schema for the qobj object supported by this backend (not implemented yet).\n",
    "```\n",
    "```\n",
    "status - gets the status of the backend.\n",
    "```\n",
    "```\n",
    "jobs  -  returns a list of the job id’s (not implemented yet).\n",
    "```\n",
    "```\n",
    "retrieve_job - gets the data in the job (not implemented yet).\n",
    "```\n",
    "```\n",
    "run  - runs a qobj on the backend.\n",
    "```\n"
   ]
  },
  {
   "cell_type": "markdown",
   "metadata": {},
   "source": [
    "Lets start with the `status`:\n",
    "\n",
    "    `available` lets us know that the backend is taking jobs\n",
    "\n",
    "    `pending_jobs` lets you know how many jobs are in the queue"
   ]
  },
  {
   "cell_type": "code",
   "execution_count": 12,
   "metadata": {},
   "outputs": [
    {
     "name": "stdout",
     "output_type": "stream",
     "text": [
      "{'available': True, 'name': 'local_clifford_simulator_cpp'}\n",
      "{'available': True, 'name': 'ibmqx_hpc_qasm_simulator', 'pending_jobs': 0}\n",
      "{'available': True, 'name': 'ibmqx4', 'pending_jobs': 0}\n",
      "{'available': True, 'name': 'ibmqx5', 'pending_jobs': 4}\n",
      "{'available': False, 'name': 'ibmqx2', 'pending_jobs': 330}\n",
      "{'available': True, 'name': 'local_unitary_simulator_py'}\n",
      "{'available': True, 'name': 'local_qasm_simulator_cpp'}\n",
      "{'available': True, 'name': 'local_statevector_simulator_cpp'}\n",
      "{'available': True, 'name': 'ibmqx_qasm_simulator', 'pending_jobs': 0}\n"
     ]
    }
   ],
   "source": [
    "for backend in backends:\n",
    "    pprint(backend.status)"
   ]
  },
  {
   "cell_type": "markdown",
   "metadata": {},
   "source": [
    "The next is `configuration`"
   ]
  },
  {
   "cell_type": "code",
   "execution_count": 13,
   "metadata": {},
   "outputs": [
    {
     "name": "stdout",
     "output_type": "stream",
     "text": [
      "{'basis_gates': 'cx,id,x,y,z,h,s,sdg,snapshot,wait,noise,save,load',\n",
      " 'coupling_map': 'all-to-all',\n",
      " 'description': 'A C++ Clifford simulator with approximate noise',\n",
      " 'exe': '/Users/jaygambetta/miniconda3/envs/QISKitenv/lib/python3.6/site-packages/qiskit/backends/local/qasm_simulator_cpp',\n",
      " 'local': True,\n",
      " 'name': 'local_clifford_simulator_cpp',\n",
      " 'simulator': True,\n",
      " 'url': 'https://github.com/QISKit/qiskit-sdk-py/src/qasm-simulator-cpp'}\n",
      "{'basis_gates': 'u1,u2,u3,cx,id',\n",
      " 'coupling_map': 'all-to-all',\n",
      " 'local': False,\n",
      " 'n_qubits': 32,\n",
      " 'name': 'ibmqx_hpc_qasm_simulator',\n",
      " 'online_date': '2017-12-09T12:00:00.000Z',\n",
      " 'simulator': True}\n",
      "{'basis_gates': 'u1,u2,u3,cx,id',\n",
      " 'chip_name': 'Raven',\n",
      " 'coupling_map': [[1, 0], [2, 0], [2, 1], [3, 2], [3, 4], [4, 2]],\n",
      " 'description': '5 qubit transmon bowtie chip 3',\n",
      " 'gate_set': 'SU2+CNOT',\n",
      " 'local': False,\n",
      " 'n_qubits': 5,\n",
      " 'name': 'ibmqx4',\n",
      " 'online_date': '2017-09-18T00:00:00.000Z',\n",
      " 'simulator': False,\n",
      " 'url': 'https://ibm.biz/qiskit-ibmqx4',\n",
      " 'version': '1'}\n",
      "{'basis_gates': 'u1,u2,u3,cx,id',\n",
      " 'chip_name': 'Albatross',\n",
      " 'coupling_map': [[1, 0],\n",
      "                  [1, 2],\n",
      "                  [2, 3],\n",
      "                  [3, 4],\n",
      "                  [3, 14],\n",
      "                  [5, 4],\n",
      "                  [6, 5],\n",
      "                  [6, 7],\n",
      "                  [6, 11],\n",
      "                  [7, 10],\n",
      "                  [8, 7],\n",
      "                  [9, 8],\n",
      "                  [9, 10],\n",
      "                  [11, 10],\n",
      "                  [12, 5],\n",
      "                  [12, 11],\n",
      "                  [12, 13],\n",
      "                  [13, 4],\n",
      "                  [13, 14],\n",
      "                  [15, 0],\n",
      "                  [15, 2],\n",
      "                  [15, 14]],\n",
      " 'description': '16 transmon 2x8 ladder',\n",
      " 'gate_set': 'SU2+CNOT',\n",
      " 'local': False,\n",
      " 'n_qubits': 16,\n",
      " 'name': 'ibmqx5',\n",
      " 'online_date': '2017-09-21T00:00:00.000Z',\n",
      " 'simulator': False,\n",
      " 'url': 'https://ibm.biz/qiskit-ibmqx5',\n",
      " 'version': '1'}\n",
      "{'basis_gates': 'u1,u2,u3,cx,id',\n",
      " 'chip_name': 'Sparrow',\n",
      " 'coupling_map': [[0, 1], [0, 2], [1, 2], [3, 2], [3, 4], [4, 2]],\n",
      " 'description': '5 qubit transmon bowtie chip 2',\n",
      " 'gate_set': 'SU2+CNOT',\n",
      " 'local': False,\n",
      " 'n_qubits': 5,\n",
      " 'name': 'ibmqx2',\n",
      " 'online_date': '2017-01-10T00:00:00.000Z',\n",
      " 'simulator': False,\n",
      " 'url': 'https://ibm.biz/qiskit-ibmqx2',\n",
      " 'version': '1'}\n",
      "{'basis_gates': 'u1,u2,u3,cx,id',\n",
      " 'coupling_map': 'all-to-all',\n",
      " 'description': 'A python simulator for unitary matrix',\n",
      " 'local': True,\n",
      " 'name': 'local_unitary_simulator_py',\n",
      " 'simulator': True,\n",
      " 'url': 'https://github.com/QISKit/qiskit-sdk-py'}\n",
      "{'basis_gates': 'u0,u1,u2,u3,cx,cz,id,x,y,z,h,s,sdg,t,tdg,rzz,snapshot,wait,noise,save,load',\n",
      " 'coupling_map': 'all-to-all',\n",
      " 'description': 'A C++ realistic noise simulator for qobj files',\n",
      " 'exe': '/Users/jaygambetta/miniconda3/envs/QISKitenv/lib/python3.6/site-packages/qiskit/backends/local/qasm_simulator_cpp',\n",
      " 'local': True,\n",
      " 'name': 'local_qasm_simulator_cpp',\n",
      " 'simulator': True,\n",
      " 'url': 'https://github.com/QISKit/qiskit-sdk-py/src/qasm-simulator-cpp'}\n",
      "{'basis_gates': 'u1,u2,u3,cx,cz,id,x,y,z,h,s,sdg,t,tdg,rzz,load,save,snapshot',\n",
      " 'coupling_map': 'all-to-all',\n",
      " 'description': 'A C++ statevector simulator for qobj files',\n",
      " 'exe': '/Users/jaygambetta/miniconda3/envs/QISKitenv/lib/python3.6/site-packages/qiskit/backends/local/qasm_simulator_cpp',\n",
      " 'local': True,\n",
      " 'name': 'local_statevector_simulator_cpp',\n",
      " 'simulator': True,\n",
      " 'url': 'https://github.com/QISKit/qiskit-sdk-py/src/qasm-simulator-cpp'}\n",
      "{'basis_gates': 'u1,u2,u3,cx,id',\n",
      " 'coupling_map': 'all-to-all',\n",
      " 'description': 'online qasm simulator',\n",
      " 'local': False,\n",
      " 'n_qubits': 24,\n",
      " 'name': 'ibmqx_qasm_simulator',\n",
      " 'simulator': True}\n"
     ]
    }
   ],
   "source": [
    "for backend in backends:\n",
    "    pprint(backend.configuration)"
   ]
  },
  {
   "cell_type": "code",
   "execution_count": 14,
   "metadata": {},
   "outputs": [
    {
     "name": "stdout",
     "output_type": "stream",
     "text": [
      "{}\n",
      "{}\n",
      "{'backend': 'ibmqx4',\n",
      " 'fridge_parameters': {'Temperature': {'date': '2018-05-13T01:59:20Z',\n",
      "                                       'unit': 'K',\n",
      "                                       'value': 0.021},\n",
      "                       'cooldownDate': '2017-09-07'},\n",
      " 'last_update_date': '2018-05-13T01:59:20.000Z',\n",
      " 'qubits': [{'T1': {'date': '2018-05-13T01:59:20Z',\n",
      "                    'unit': 'µs',\n",
      "                    'value': 50.4},\n",
      "             'T2': {'date': '2018-05-13T01:59:20Z',\n",
      "                    'unit': 'µs',\n",
      "                    'value': 12.4},\n",
      "             'buffer': {'date': '2018-05-13T01:59:20Z',\n",
      "                        'unit': 'ns',\n",
      "                        'value': 10},\n",
      "             'frequency': {'date': '2018-05-13T01:59:20Z',\n",
      "                           'unit': 'GHz',\n",
      "                           'value': 5.24229},\n",
      "             'gateTime': {'date': '2018-05-13T01:59:20Z',\n",
      "                          'unit': 'ns',\n",
      "                          'value': 50},\n",
      "             'name': 'Q0'},\n",
      "            {'T1': {'date': '2018-05-13T01:59:20Z', 'unit': 'µs', 'value': 51},\n",
      "             'T2': {'date': '2018-05-13T01:59:20Z',\n",
      "                    'unit': 'µs',\n",
      "                    'value': 69.2},\n",
      "             'buffer': {'date': '2018-05-13T01:59:20Z',\n",
      "                        'unit': 'ns',\n",
      "                        'value': 10},\n",
      "             'frequency': {'date': '2018-05-13T01:59:20Z',\n",
      "                           'unit': 'GHz',\n",
      "                           'value': 5.30745},\n",
      "             'gateTime': {'date': '2018-05-13T01:59:20Z',\n",
      "                          'unit': 'ns',\n",
      "                          'value': 50},\n",
      "             'name': 'Q1'},\n",
      "            {'T1': {'date': '2018-05-13T01:59:20Z',\n",
      "                    'unit': 'µs',\n",
      "                    'value': 50.7},\n",
      "             'T2': {'date': '2018-05-13T01:59:20Z',\n",
      "                    'unit': 'µs',\n",
      "                    'value': 55.2},\n",
      "             'buffer': {'date': '2018-05-13T01:59:20Z',\n",
      "                        'unit': 'ns',\n",
      "                        'value': 10},\n",
      "             'frequency': {'date': '2018-05-13T01:59:20Z',\n",
      "                           'unit': 'GHz',\n",
      "                           'value': 5.35163},\n",
      "             'gateTime': {'date': '2018-05-13T01:59:20Z',\n",
      "                          'unit': 'ns',\n",
      "                          'value': 50},\n",
      "             'name': 'Q2'},\n",
      "            {'T1': {'date': '2018-05-13T01:59:20Z',\n",
      "                    'unit': 'µs',\n",
      "                    'value': 36.8},\n",
      "             'T2': {'date': '2018-05-13T01:59:20Z',\n",
      "                    'unit': 'µs',\n",
      "                    'value': 15.1},\n",
      "             'buffer': {'date': '2018-05-13T01:59:20Z',\n",
      "                        'unit': 'ns',\n",
      "                        'value': 10},\n",
      "             'frequency': {'date': '2018-05-13T01:59:20Z',\n",
      "                           'unit': 'GHz',\n",
      "                           'value': 5.41105},\n",
      "             'gateTime': {'date': '2018-05-13T01:59:20Z',\n",
      "                          'unit': 'ns',\n",
      "                          'value': 50},\n",
      "             'name': 'Q3'},\n",
      "            {'T1': {'date': '2018-05-13T01:59:20Z', 'unit': 'µs', 'value': 59},\n",
      "             'T2': {'date': '2018-05-13T01:59:20Z',\n",
      "                    'unit': 'µs',\n",
      "                    'value': 30.9},\n",
      "             'buffer': {'date': '2018-05-13T01:59:20Z',\n",
      "                        'unit': 'ns',\n",
      "                        'value': 10},\n",
      "             'frequency': {'date': '2018-05-13T01:59:20Z',\n",
      "                           'unit': 'GHz',\n",
      "                           'value': 5.18931},\n",
      "             'gateTime': {'date': '2018-05-13T01:59:20Z',\n",
      "                          'unit': 'ns',\n",
      "                          'value': 50},\n",
      "             'name': 'Q4'}]}\n",
      "{'backend': 'ibmqx5',\n",
      " 'fridge_parameters': {'Temperature': {'date': '2018-05-12T18:48:22Z',\n",
      "                                       'unit': 'K',\n",
      "                                       'value': 0.0140733},\n",
      "                       'cooldownDate': '2017-09-15'},\n",
      " 'last_update_date': '2018-05-13T01:27:56.000Z',\n",
      " 'qubits': [{'T1': {'date': '2018-05-13T01:26:50Z',\n",
      "                    'unit': 'µs',\n",
      "                    'value': 23.4},\n",
      "             'T2': {'date': '2018-05-13T01:27:56Z',\n",
      "                    'unit': 'µs',\n",
      "                    'value': 26.9},\n",
      "             'buffer': {'date': '2018-05-13T01:05:39Z',\n",
      "                        'unit': 'ns',\n",
      "                        'value': 10},\n",
      "             'frequency': {'date': '2018-05-13T01:05:39Z',\n",
      "                           'units': 'GHz',\n",
      "                           'value': 5.2559135},\n",
      "             'gateTime': {'date': '2018-05-13T01:05:39Z',\n",
      "                          'unit': 'ns',\n",
      "                          'value': 80},\n",
      "             'name': 'Q0'},\n",
      "            {'T1': {'date': '2018-05-13T01:26:50Z',\n",
      "                    'unit': 'µs',\n",
      "                    'value': 35.5},\n",
      "             'T2': {'date': '2018-05-13T01:27:56Z',\n",
      "                    'unit': 'µs',\n",
      "                    'value': 47.4},\n",
      "             'buffer': {'date': '2018-05-13T01:05:39Z',\n",
      "                        'unit': 'ns',\n",
      "                        'value': 10},\n",
      "             'frequency': {'date': '2018-05-13T01:05:39Z',\n",
      "                           'units': 'GHz',\n",
      "                           'value': 5.3959674},\n",
      "             'gateTime': {'date': '2018-05-13T01:05:39Z',\n",
      "                          'unit': 'ns',\n",
      "                          'value': 80},\n",
      "             'name': 'Q1'},\n",
      "            {'T1': {'date': '2018-05-13T01:26:50Z',\n",
      "                    'unit': 'µs',\n",
      "                    'value': 47.9},\n",
      "             'T2': {'date': '2018-05-13T01:27:56Z',\n",
      "                    'unit': 'µs',\n",
      "                    'value': 60.9},\n",
      "             'buffer': {'date': '2018-05-13T01:05:39Z',\n",
      "                        'unit': 'ns',\n",
      "                        'value': 10},\n",
      "             'frequency': {'date': '2018-05-13T01:05:39Z',\n",
      "                           'units': 'GHz',\n",
      "                           'value': 5.2755763},\n",
      "             'gateTime': {'date': '2018-05-13T01:05:39Z',\n",
      "                          'unit': 'ns',\n",
      "                          'value': 80},\n",
      "             'name': 'Q2'},\n",
      "            {'T1': {'date': '2018-05-13T01:26:50Z',\n",
      "                    'unit': 'µs',\n",
      "                    'value': 52.9},\n",
      "             'T2': {'date': '2018-05-13T01:27:56Z',\n",
      "                    'unit': 'µs',\n",
      "                    'value': 108.8},\n",
      "             'buffer': {'date': '2018-05-13T01:05:39Z',\n",
      "                        'unit': 'ns',\n",
      "                        'value': 10},\n",
      "             'frequency': {'date': '2018-05-13T01:05:39Z',\n",
      "                           'units': 'GHz',\n",
      "                           'value': 5.0830806},\n",
      "             'gateTime': {'date': '2018-05-13T01:05:39Z',\n",
      "                          'unit': 'ns',\n",
      "                          'value': 80},\n",
      "             'name': 'Q3'},\n",
      "            {'T1': {'date': '2018-05-13T01:26:50Z',\n",
      "                    'unit': 'µs',\n",
      "                    'value': 53.1},\n",
      "             'T2': {'date': '2018-05-13T01:27:56Z',\n",
      "                    'unit': 'µs',\n",
      "                    'value': 85.4},\n",
      "             'buffer': {'date': '2018-05-13T01:05:39Z',\n",
      "                        'unit': 'ns',\n",
      "                        'value': 10},\n",
      "             'frequency': {'date': '2018-05-13T01:05:39Z',\n",
      "                           'units': 'GHz',\n",
      "                           'value': 4.9791574},\n",
      "             'gateTime': {'date': '2018-05-13T01:05:39Z',\n",
      "                          'unit': 'ns',\n",
      "                          'value': 80},\n",
      "             'name': 'Q4'},\n",
      "            {'T1': {'date': '2018-05-13T01:26:50Z',\n",
      "                    'unit': 'µs',\n",
      "                    'value': 41.6},\n",
      "             'T2': {'date': '2018-05-13T01:27:56Z',\n",
      "                    'unit': 'µs',\n",
      "                    'value': 41.8},\n",
      "             'buffer': {'date': '2018-05-13T01:05:39Z',\n",
      "                        'unit': 'ns',\n",
      "                        'value': 10},\n",
      "             'frequency': {'date': '2018-05-13T01:05:39Z',\n",
      "                           'units': 'GHz',\n",
      "                           'value': 5.1515127},\n",
      "             'gateTime': {'date': '2018-05-13T01:05:39Z',\n",
      "                          'unit': 'ns',\n",
      "                          'value': 80},\n",
      "             'name': 'Q5'},\n",
      "            {'T1': {'date': '2018-05-13T01:26:50Z',\n",
      "                    'unit': 'µs',\n",
      "                    'value': 49.4},\n",
      "             'T2': {'date': '2018-05-13T01:27:56Z',\n",
      "                    'unit': 'µs',\n",
      "                    'value': 93.9},\n",
      "             'buffer': {'date': '2018-05-13T01:05:39Z',\n",
      "                        'unit': 'ns',\n",
      "                        'value': 10},\n",
      "             'frequency': {'date': '2018-05-13T01:05:39Z',\n",
      "                           'units': 'GHz',\n",
      "                           'value': 5.3058057},\n",
      "             'gateTime': {'date': '2018-05-13T01:05:39Z',\n",
      "                          'unit': 'ns',\n",
      "                          'value': 80},\n",
      "             'name': 'Q6'},\n",
      "            {'T1': {'date': '2018-05-13T01:26:50Z',\n",
      "                    'unit': 'µs',\n",
      "                    'value': 48.2},\n",
      "             'T2': {'date': '2018-05-13T01:27:56Z',\n",
      "                    'unit': 'µs',\n",
      "                    'value': 62.2},\n",
      "             'buffer': {'date': '2018-05-13T01:05:39Z',\n",
      "                        'unit': 'ns',\n",
      "                        'value': 10},\n",
      "             'frequency': {'date': '2018-05-13T01:05:39Z',\n",
      "                           'units': 'GHz',\n",
      "                           'value': 5.2523233},\n",
      "             'gateTime': {'date': '2018-05-13T01:05:39Z',\n",
      "                          'unit': 'ns',\n",
      "                          'value': 80},\n",
      "             'name': 'Q7'},\n",
      "            {'T1': {'date': '2018-05-13T01:26:50Z',\n",
      "                    'unit': 'µs',\n",
      "                    'value': 54.6},\n",
      "             'T2': {'date': '2018-05-13T01:27:56Z', 'unit': 'µs', 'value': 99},\n",
      "             'buffer': {'date': '2018-05-13T01:05:39Z',\n",
      "                        'unit': 'ns',\n",
      "                        'value': 10},\n",
      "             'frequency': {'date': '2018-05-13T01:05:39Z',\n",
      "                           'units': 'GHz',\n",
      "                           'value': 5.1152673},\n",
      "             'gateTime': {'date': '2018-05-13T01:05:39Z',\n",
      "                          'unit': 'ns',\n",
      "                          'value': 80},\n",
      "             'name': 'Q8'},\n",
      "            {'T1': {'date': '2018-05-13T01:26:50Z',\n",
      "                    'unit': 'µs',\n",
      "                    'value': 44.1},\n",
      "             'T2': {'date': '2018-05-13T01:27:56Z',\n",
      "                    'unit': 'µs',\n",
      "                    'value': 84.7},\n",
      "             'buffer': {'date': '2018-05-13T01:05:39Z',\n",
      "                        'unit': 'ns',\n",
      "                        'value': 10},\n",
      "             'frequency': {'date': '2018-05-13T01:05:39Z',\n",
      "                           'units': 'GHz',\n",
      "                           'value': 5.1554048},\n",
      "             'gateTime': {'date': '2018-05-13T01:05:39Z',\n",
      "                          'unit': 'ns',\n",
      "                          'value': 80},\n",
      "             'name': 'Q9'},\n",
      "            {'T1': {'date': '2018-05-13T01:26:50Z',\n",
      "                    'unit': 'µs',\n",
      "                    'value': 63.9},\n",
      "             'T2': {'date': '2018-05-13T01:27:56Z',\n",
      "                    'unit': 'µs',\n",
      "                    'value': 96.3},\n",
      "             'buffer': {'date': '2018-05-13T01:05:39Z',\n",
      "                        'unit': 'ns',\n",
      "                        'value': 10},\n",
      "             'frequency': {'date': '2018-05-13T01:05:39Z',\n",
      "                           'units': 'GHz',\n",
      "                           'value': 5.0425617},\n",
      "             'gateTime': {'date': '2018-05-13T01:05:39Z',\n",
      "                          'unit': 'ns',\n",
      "                          'value': 80},\n",
      "             'name': 'Q10'},\n",
      "            {'T1': {'date': '2018-05-13T01:26:50Z',\n",
      "                    'unit': 'µs',\n",
      "                    'value': 38.9},\n",
      "             'T2': {'date': '2018-05-13T01:27:56Z', 'unit': 'µs', 'value': 55},\n",
      "             'buffer': {'date': '2018-05-13T01:05:39Z',\n",
      "                        'unit': 'ns',\n",
      "                        'value': 10},\n",
      "             'frequency': {'date': '2018-05-13T01:05:39Z',\n",
      "                           'units': 'GHz',\n",
      "                           'value': 5.1108783},\n",
      "             'gateTime': {'date': '2018-05-13T01:05:39Z',\n",
      "                          'unit': 'ns',\n",
      "                          'value': 80},\n",
      "             'name': 'Q11'},\n",
      "            {'T1': {'date': '2018-05-13T01:26:50Z',\n",
      "                    'unit': 'µs',\n",
      "                    'value': 51.5},\n",
      "             'T2': {'date': '2018-05-13T01:27:56Z',\n",
      "                    'unit': 'µs',\n",
      "                    'value': 53.7},\n",
      "             'buffer': {'date': '2018-05-13T01:05:39Z',\n",
      "                        'unit': 'ns',\n",
      "                        'value': 10},\n",
      "             'frequency': {'date': '2018-05-13T01:05:39Z',\n",
      "                           'units': 'GHz',\n",
      "                           'value': 4.9468303},\n",
      "             'gateTime': {'date': '2018-05-13T01:05:39Z',\n",
      "                          'unit': 'ns',\n",
      "                          'value': 80},\n",
      "             'name': 'Q12'},\n",
      "            {'T1': {'date': '2018-05-13T01:26:50Z',\n",
      "                    'unit': 'µs',\n",
      "                    'value': 54.9},\n",
      "             'T2': {'date': '2018-05-13T01:27:56Z',\n",
      "                    'unit': 'µs',\n",
      "                    'value': 93.6},\n",
      "             'buffer': {'date': '2018-05-13T01:05:39Z',\n",
      "                        'unit': 'ns',\n",
      "                        'value': 10},\n",
      "             'frequency': {'date': '2018-05-13T01:05:39Z',\n",
      "                           'units': 'GHz',\n",
      "                           'value': 5.088254},\n",
      "             'gateTime': {'date': '2018-05-13T01:05:39Z',\n",
      "                          'unit': 'ns',\n",
      "                          'value': 80},\n",
      "             'name': 'Q13'},\n",
      "            {'T1': {'date': '2018-05-13T01:26:50Z',\n",
      "                    'unit': 'µs',\n",
      "                    'value': 36.3},\n",
      "             'T2': {'date': '2018-05-13T01:27:56Z',\n",
      "                    'unit': 'µs',\n",
      "                    'value': 68.4},\n",
      "             'buffer': {'date': '2018-05-13T01:05:39Z',\n",
      "                        'unit': 'ns',\n",
      "                        'value': 10},\n",
      "             'frequency': {'date': '2018-05-13T01:05:39Z',\n",
      "                           'units': 'GHz',\n",
      "                           'value': 4.8704966},\n",
      "             'gateTime': {'date': '2018-05-13T01:05:39Z',\n",
      "                          'unit': 'ns',\n",
      "                          'value': 80},\n",
      "             'name': 'Q14'},\n",
      "            {'T1': {'date': '2018-05-13T01:26:50Z',\n",
      "                    'unit': 'µs',\n",
      "                    'value': 51.4},\n",
      "             'T2': {'date': '2018-05-13T01:27:56Z',\n",
      "                    'unit': 'µs',\n",
      "                    'value': 100.8},\n",
      "             'buffer': {'date': '2018-05-13T01:05:39Z',\n",
      "                        'unit': 'ns',\n",
      "                        'value': 10},\n",
      "             'frequency': {'date': '2018-05-13T01:05:39Z',\n",
      "                           'units': 'GHz',\n",
      "                           'value': 5.1047625},\n",
      "             'gateTime': {'date': '2018-05-13T01:05:39Z',\n",
      "                          'unit': 'ns',\n",
      "                          'value': 80},\n",
      "             'name': 'Q15'}]}\n"
     ]
    },
    {
     "name": "stdout",
     "output_type": "stream",
     "text": [
      "{'backend': 'ibmqx2',\n",
      " 'fridge_parameters': {'Temperature': {'date': '2018-04-13T15:53:48Z',\n",
      "                                       'unit': 'K',\n",
      "                                       'value': 0.0159},\n",
      "                       'cooldownDate': '2017-05-07'},\n",
      " 'last_update_date': '2018-04-13T15:53:48.000Z',\n",
      " 'qubits': [{'T1': {'date': '2018-04-13T15:53:48Z',\n",
      "                    'unit': 'µs',\n",
      "                    'value': 62.4},\n",
      "             'T2': {'date': '2018-04-13T15:53:48Z',\n",
      "                    'unit': 'µs',\n",
      "                    'value': 77.5},\n",
      "             'buffer': {'date': '2018-04-13T15:53:48Z',\n",
      "                        'unit': 'ns',\n",
      "                        'value': 6.7},\n",
      "             'frequency': {'date': '2018-04-13T15:53:48Z',\n",
      "                           'unit': 'GHz',\n",
      "                           'value': 5.27603},\n",
      "             'gateTime': {'date': '2018-04-13T15:53:48Z',\n",
      "                          'unit': 'ns',\n",
      "                          'value': 83.3},\n",
      "             'name': 'Q0'},\n",
      "            {'T1': {'date': '2018-04-13T15:53:48Z',\n",
      "                    'unit': 'µs',\n",
      "                    'value': 55.1},\n",
      "             'T2': {'date': '2018-04-13T15:53:48Z', 'unit': 'µs', 'value': 64},\n",
      "             'buffer': {'date': '2018-04-13T15:53:48Z',\n",
      "                        'unit': 'ns',\n",
      "                        'value': 6.7},\n",
      "             'frequency': {'date': '2018-04-13T15:53:48Z',\n",
      "                           'unit': 'GHz',\n",
      "                           'value': 5.21223},\n",
      "             'gateTime': {'date': '2018-04-13T15:53:48Z',\n",
      "                          'unit': 'ns',\n",
      "                          'value': 83.3},\n",
      "             'name': 'Q1'},\n",
      "            {'T1': {'date': '2018-04-13T15:53:48Z',\n",
      "                    'unit': 'µs',\n",
      "                    'value': 48.4},\n",
      "             'T2': {'date': '2018-04-13T15:53:48Z',\n",
      "                    'unit': 'µs',\n",
      "                    'value': 54.7},\n",
      "             'buffer': {'date': '2018-04-13T15:53:48Z',\n",
      "                        'unit': 'ns',\n",
      "                        'value': 6.7},\n",
      "             'frequency': {'date': '2018-04-13T15:53:48Z',\n",
      "                           'unit': 'GHz',\n",
      "                           'value': 5.01542},\n",
      "             'gateTime': {'date': '2018-04-13T15:53:48Z',\n",
      "                          'unit': 'ns',\n",
      "                          'value': 83.3},\n",
      "             'name': 'Q2'},\n",
      "            {'T1': {'date': '2018-04-13T15:53:48Z', 'unit': 'µs', 'value': 59},\n",
      "             'T2': {'date': '2018-04-13T15:53:48Z',\n",
      "                    'unit': 'µs',\n",
      "                    'value': 57.3},\n",
      "             'buffer': {'date': '2018-04-13T15:53:48Z',\n",
      "                        'unit': 'ns',\n",
      "                        'value': 6.7},\n",
      "             'frequency': {'date': '2018-04-13T15:53:48Z',\n",
      "                           'unit': 'GHz',\n",
      "                           'value': 5.28059},\n",
      "             'gateTime': {'date': '2018-04-13T15:53:48Z',\n",
      "                          'unit': 'ns',\n",
      "                          'value': 83.3},\n",
      "             'name': 'Q3'},\n",
      "            {'T1': {'date': '2018-04-13T15:53:48Z',\n",
      "                    'unit': 'µs',\n",
      "                    'value': 53.3},\n",
      "             'T2': {'date': '2018-04-13T15:53:48Z',\n",
      "                    'unit': 'µs',\n",
      "                    'value': 36.4},\n",
      "             'buffer': {'date': '2018-04-13T15:53:48Z',\n",
      "                        'unit': 'ns',\n",
      "                        'value': 6.7},\n",
      "             'frequency': {'date': '2018-04-13T15:53:48Z',\n",
      "                           'unit': 'GHz',\n",
      "                           'value': 5.07116},\n",
      "             'gateTime': {'date': '2018-04-13T15:53:48Z',\n",
      "                          'unit': 'ns',\n",
      "                          'value': 83.3},\n",
      "             'name': 'Q4'}]}\n",
      "{}\n",
      "{}\n",
      "{}\n",
      "{}\n"
     ]
    }
   ],
   "source": [
    "for backend in backends:\n",
    "    pprint(backend.parameters)"
   ]
  },
  {
   "cell_type": "code",
   "execution_count": 15,
   "metadata": {},
   "outputs": [
    {
     "name": "stdout",
     "output_type": "stream",
     "text": [
      "{}\n",
      "{}\n",
      "{'backend': 'ibmqx4',\n",
      " 'last_update_date': '2018-05-13T01:59:20.000Z',\n",
      " 'multi_qubit_gates': [{'gateError': {'date': '2018-05-13T01:59:20Z',\n",
      "                                      'value': 0.025213102663840553},\n",
      "                        'name': 'CX1_0',\n",
      "                        'qubits': [1, 0],\n",
      "                        'type': 'CX'},\n",
      "                       {'gateError': {'date': '2018-05-13T01:59:20Z',\n",
      "                                      'value': 0.034465714682663684},\n",
      "                        'name': 'CX2_0',\n",
      "                        'qubits': [2, 0],\n",
      "                        'type': 'CX'},\n",
      "                       {'gateError': {'date': '2018-05-13T01:59:20Z',\n",
      "                                      'value': 0.028811838355224106},\n",
      "                        'name': 'CX2_1',\n",
      "                        'qubits': [2, 1],\n",
      "                        'type': 'CX'},\n",
      "                       {'gateError': {'date': '2018-05-13T01:59:20Z',\n",
      "                                      'value': 0.11260554765472736},\n",
      "                        'name': 'CX3_2',\n",
      "                        'qubits': [3, 2],\n",
      "                        'type': 'CX'},\n",
      "                       {'gateError': {'date': '2018-05-13T01:59:20Z',\n",
      "                                      'value': 0.10417239221632718},\n",
      "                        'name': 'CX3_4',\n",
      "                        'qubits': [3, 4],\n",
      "                        'type': 'CX'},\n",
      "                       {'gateError': {'date': '2018-05-13T01:59:20Z',\n",
      "                                      'value': 0.0517706194864016},\n",
      "                        'name': 'CX4_2',\n",
      "                        'qubits': [4, 2],\n",
      "                        'type': 'CX'}],\n",
      " 'qubits': [{'gateError': {'date': '2018-05-13T01:59:20Z',\n",
      "                           'value': 0.00128782749692391},\n",
      "             'name': 'Q0',\n",
      "             'readoutError': {'date': '2018-05-13T01:59:20Z', 'value': 0.057}},\n",
      "            {'gateError': {'date': '2018-05-13T01:59:20Z',\n",
      "                           'value': 0.0024043886349084387},\n",
      "             'name': 'Q1',\n",
      "             'readoutError': {'date': '2018-05-13T01:59:20Z', 'value': 0.049}},\n",
      "            {'gateError': {'date': '2018-05-13T01:59:20Z',\n",
      "                           'value': 0.0013737021608475342},\n",
      "             'name': 'Q2',\n",
      "             'readoutError': {'date': '2018-05-13T01:59:20Z', 'value': 0.107}},\n",
      "            {'gateError': {'date': '2018-05-13T01:59:20Z',\n",
      "                           'value': 0.0042948964114291055},\n",
      "             'name': 'Q3',\n",
      "             'readoutError': {'date': '2018-05-13T01:59:20Z', 'value': 0.043}},\n",
      "            {'gateError': {'date': '2018-05-13T01:59:20Z',\n",
      "                           'value': 0.0012019552727863259},\n",
      "             'name': 'Q4',\n",
      "             'readoutError': {'date': '2018-05-13T01:59:20Z', 'value': 0.063}}]}\n",
      "{'backend': 'ibmqx5',\n",
      " 'last_update_date': '2018-05-13T02:53:30.000Z',\n",
      " 'multi_qubit_gates': [{'gateError': {'date': '2018-05-13T02:19:55Z',\n",
      "                                      'value': 0.04726693762431114},\n",
      "                        'name': 'CX1_0',\n",
      "                        'qubits': [1, 0],\n",
      "                        'type': 'CX'},\n",
      "                       {'gateError': {'date': '2018-05-13T02:19:55Z',\n",
      "                                      'value': 0.042160270280824724},\n",
      "                        'name': 'CX1_2',\n",
      "                        'qubits': [1, 2],\n",
      "                        'type': 'CX'},\n",
      "                       {'gateError': {'date': '2018-05-13T02:19:55Z',\n",
      "                                      'value': 0.03555836492319578},\n",
      "                        'name': 'CX2_3',\n",
      "                        'qubits': [2, 3],\n",
      "                        'type': 'CX'},\n",
      "                       {'gateError': {'date': '2018-05-13T02:19:55Z',\n",
      "                                      'value': 0.035894199600759125},\n",
      "                        'name': 'CX3_4',\n",
      "                        'qubits': [3, 4],\n",
      "                        'type': 'CX'},\n",
      "                       {'gateError': {'date': '2018-05-13T02:53:30Z',\n",
      "                                      'value': 0.0700165307251073},\n",
      "                        'name': 'CX3_14',\n",
      "                        'qubits': [3, 14],\n",
      "                        'type': 'CX'},\n",
      "                       {'gateError': {'date': '2018-05-13T02:19:55Z',\n",
      "                                      'value': 0.03264022951965387},\n",
      "                        'name': 'CX5_4',\n",
      "                        'qubits': [5, 4],\n",
      "                        'type': 'CX'},\n",
      "                       {'gateError': {'date': '2018-05-13T02:19:55Z',\n",
      "                                      'value': 0.03609516570095628},\n",
      "                        'name': 'CX6_5',\n",
      "                        'qubits': [6, 5],\n",
      "                        'type': 'CX'},\n",
      "                       {'gateError': {'date': '2018-05-13T02:19:55Z',\n",
      "                                      'value': 0.027505167519762563},\n",
      "                        'name': 'CX6_7',\n",
      "                        'qubits': [6, 7],\n",
      "                        'type': 'CX'},\n",
      "                       {'gateError': {'date': '2018-05-13T02:19:55Z',\n",
      "                                      'value': 0.034439344072841466},\n",
      "                        'name': 'CX6_11',\n",
      "                        'qubits': [6, 11],\n",
      "                        'type': 'CX'},\n",
      "                       {'gateError': {'date': '2018-05-13T02:19:55Z',\n",
      "                                      'value': 0.04173953579511763},\n",
      "                        'name': 'CX7_10',\n",
      "                        'qubits': [7, 10],\n",
      "                        'type': 'CX'},\n",
      "                       {'gateError': {'date': '2018-05-13T02:19:55Z',\n",
      "                                      'value': 0.04491547027093876},\n",
      "                        'name': 'CX8_7',\n",
      "                        'qubits': [8, 7],\n",
      "                        'type': 'CX'},\n",
      "                       {'gateError': {'date': '2018-05-13T02:19:55Z',\n",
      "                                      'value': 0.027351541822327796},\n",
      "                        'name': 'CX9_8',\n",
      "                        'qubits': [9, 8],\n",
      "                        'type': 'CX'},\n",
      "                       {'gateError': {'date': '2018-05-13T02:19:55Z',\n",
      "                                      'value': 0.025488311810641734},\n",
      "                        'name': 'CX9_10',\n",
      "                        'qubits': [9, 10],\n",
      "                        'type': 'CX'},\n",
      "                       {'gateError': {'date': '2018-05-13T02:19:55Z',\n",
      "                                      'value': 0.03494973872610996},\n",
      "                        'name': 'CX11_10',\n",
      "                        'qubits': [11, 10],\n",
      "                        'type': 'CX'},\n",
      "                       {'gateError': {'date': '2018-05-13T02:19:55Z',\n",
      "                                      'value': 0.03928478356458098},\n",
      "                        'name': 'CX12_5',\n",
      "                        'qubits': [12, 5],\n",
      "                        'type': 'CX'},\n",
      "                       {'gateError': {'date': '2018-05-13T02:19:55Z',\n",
      "                                      'value': 0.03610505251190688},\n",
      "                        'name': 'CX12_11',\n",
      "                        'qubits': [12, 11],\n",
      "                        'type': 'CX'},\n",
      "                       {'gateError': {'date': '2018-05-13T02:19:55Z',\n",
      "                                      'value': 0.026887508263792104},\n",
      "                        'name': 'CX12_13',\n",
      "                        'qubits': [12, 13],\n",
      "                        'type': 'CX'},\n",
      "                       {'gateError': {'date': '2018-05-13T02:19:55Z',\n",
      "                                      'value': 0.03292341141185018},\n",
      "                        'name': 'CX13_4',\n",
      "                        'qubits': [13, 4],\n",
      "                        'type': 'CX'},\n",
      "                       {'gateError': {'date': '2018-05-13T02:19:55Z',\n",
      "                                      'value': 0.04879754252289906},\n",
      "                        'name': 'CX13_14',\n",
      "                        'qubits': [13, 14],\n",
      "                        'type': 'CX'},\n",
      "                       {'gateError': {'date': '2018-05-13T02:53:30Z',\n",
      "                                      'value': 0.056140672074911885},\n",
      "                        'name': 'CX15_0',\n",
      "                        'qubits': [15, 0],\n",
      "                        'type': 'CX'},\n",
      "                       {'gateError': {'date': '2018-05-13T02:19:55Z',\n",
      "                                      'value': 0.03502396434917396},\n",
      "                        'name': 'CX15_2',\n",
      "                        'qubits': [15, 2],\n",
      "                        'type': 'CX'},\n",
      "                       {'gateError': {'date': '2018-05-13T02:19:55Z',\n",
      "                                      'value': 0.04754017559192286},\n",
      "                        'name': 'CX15_14',\n",
      "                        'qubits': [15, 14],\n",
      "                        'type': 'CX'}],\n",
      " 'qubits': [{'gateError': {'date': '2018-05-13T01:34:12Z',\n",
      "                           'value': 0.0030590015794305647},\n",
      "             'name': 'Q0',\n",
      "             'readoutError': {'date': '2018-05-13T01:26:19Z', 'value': 0.0676}},\n",
      "            {'gateError': {'date': '2018-05-13T01:34:12Z',\n",
      "                           'value': 0.002792713923630119},\n",
      "             'name': 'Q1',\n",
      "             'readoutError': {'date': '2018-05-13T01:26:19Z',\n",
      "                              'value': 0.05289999999999995}},\n",
      "            {'gateError': {'date': '2018-05-13T01:34:12Z',\n",
      "                           'value': 0.0032912128627709536},\n",
      "             'name': 'Q2',\n",
      "             'readoutError': {'date': '2018-05-13T01:26:19Z',\n",
      "                              'value': 0.043099999999999916}},\n",
      "            {'gateError': {'date': '2018-05-13T01:34:12Z',\n",
      "                           'value': 0.0024830141607146694},\n",
      "             'name': 'Q3',\n",
      "             'readoutError': {'date': '2018-05-13T01:26:19Z',\n",
      "                              'value': 0.05580000000000007}},\n",
      "            {'gateError': {'date': '2018-05-13T01:34:12Z',\n",
      "                           'value': 0.001429321124732097},\n",
      "             'name': 'Q4',\n",
      "             'readoutError': {'date': '2018-05-13T01:26:19Z', 'value': 0.0766}},\n",
      "            {'gateError': {'date': '2018-05-13T01:34:12Z',\n",
      "                           'value': 0.001982227808169146},\n",
      "             'name': 'Q5',\n",
      "             'readoutError': {'date': '2018-05-13T01:26:19Z',\n",
      "                              'value': 0.05010000000000003}},\n",
      "            {'gateError': {'date': '2018-05-13T01:34:12Z',\n",
      "                           'value': 0.0022413116584962256},\n",
      "             'name': 'Q6',\n",
      "             'readoutError': {'date': '2018-05-13T01:26:19Z',\n",
      "                              'value': 0.05109999999999992}},\n",
      "            {'gateError': {'date': '2018-05-13T01:34:12Z',\n",
      "                           'value': 0.0016557194331040526},\n",
      "             'name': 'Q7',\n",
      "             'readoutError': {'date': '2018-05-13T01:26:19Z',\n",
      "                              'value': 0.04930000000000001}},\n",
      "            {'gateError': {'date': '2018-05-13T01:34:12Z',\n",
      "                           'value': 0.0011560322537747525},\n",
      "             'name': 'Q8',\n",
      "             'readoutError': {'date': '2018-05-13T01:26:19Z',\n",
      "                              'value': 0.03979999999999995}},\n",
      "            {'gateError': {'date': '2018-05-13T01:34:12Z',\n",
      "                           'value': 0.0013407252892588817},\n",
      "             'name': 'Q9',\n",
      "             'readoutError': {'date': '2018-05-13T01:26:19Z',\n",
      "                              'value': 0.10549999999999993}},\n",
      "            {'gateError': {'date': '2018-05-13T01:34:12Z',\n",
      "                           'value': 0.001344729785730303},\n",
      "             'name': 'Q10',\n",
      "             'readoutError': {'date': '2018-05-13T01:26:19Z', 'value': 0.0857}},\n",
      "            {'gateError': {'date': '2018-05-13T01:34:12Z',\n",
      "                           'value': 0.002231803149146394},\n",
      "             'name': 'Q11',\n",
      "             'readoutError': {'date': '2018-05-13T01:26:19Z',\n",
      "                              'value': 0.09009999999999996}},\n",
      "            {'gateError': {'date': '2018-05-13T01:34:12Z',\n",
      "                           'value': 0.0016135131840771533},\n",
      "             'name': 'Q12',\n",
      "             'readoutError': {'date': '2018-05-13T01:26:19Z',\n",
      "                              'value': 0.09409999999999996}},\n",
      "            {'gateError': {'date': '2018-05-13T01:34:12Z',\n",
      "                           'value': 0.0009866052375113177},\n",
      "             'name': 'Q13',\n",
      "             'readoutError': {'date': '2018-05-13T01:26:19Z',\n",
      "                              'value': 0.03839999999999999}},\n",
      "            {'gateError': {'date': '2018-05-13T01:34:12Z',\n",
      "                           'value': 0.0033155413622852903},\n",
      "             'name': 'Q14',\n",
      "             'readoutError': {'date': '2018-05-13T01:26:19Z',\n",
      "                              'value': 0.11670000000000003}},\n",
      "            {'gateError': {'date': '2018-05-13T01:34:12Z',\n",
      "                           'value': 0.003148465576468862},\n",
      "             'name': 'Q15',\n",
      "             'readoutError': {'date': '2018-05-13T01:26:19Z',\n",
      "                              'value': 0.11719999999999997}}]}\n"
     ]
    },
    {
     "name": "stdout",
     "output_type": "stream",
     "text": [
      "{'backend': 'ibmqx2',\n",
      " 'last_update_date': '2018-04-13T15:53:48.000Z',\n",
      " 'multi_qubit_gates': [{'gateError': {'date': '2018-04-13T15:53:48Z',\n",
      "                                      'value': 0.02724902259050041},\n",
      "                        'name': 'CX0_1',\n",
      "                        'qubits': [0, 1],\n",
      "                        'type': 'CX'},\n",
      "                       {'gateError': {'date': '2018-04-13T15:53:48Z',\n",
      "                                      'value': 0.041787588869506564},\n",
      "                        'name': 'CX0_2',\n",
      "                        'qubits': [0, 2],\n",
      "                        'type': 'CX'},\n",
      "                       {'gateError': {'date': '2018-04-13T15:53:48Z',\n",
      "                                      'value': 0.03767722967662601},\n",
      "                        'name': 'CX1_2',\n",
      "                        'qubits': [1, 2],\n",
      "                        'type': 'CX'},\n",
      "                       {'gateError': {'date': '2018-04-13T15:53:48Z',\n",
      "                                      'value': 0.039730922592824625},\n",
      "                        'name': 'CX3_2',\n",
      "                        'qubits': [3, 2],\n",
      "                        'type': 'CX'},\n",
      "                       {'gateError': {'date': '2018-04-13T15:53:48Z',\n",
      "                                      'value': 0.03624140460989725},\n",
      "                        'name': 'CX3_4',\n",
      "                        'qubits': [3, 4],\n",
      "                        'type': 'CX'},\n",
      "                       {'gateError': {'date': '2018-04-13T15:53:48Z',\n",
      "                                      'value': 0.03508012699633578},\n",
      "                        'name': 'CX4_2',\n",
      "                        'qubits': [4, 2],\n",
      "                        'type': 'CX'}],\n",
      " 'qubits': [{'gateError': {'date': '2018-04-13T15:53:48Z',\n",
      "                           'value': 0.0013737021608475342},\n",
      "             'name': 'Q0',\n",
      "             'readoutError': {'date': '2018-04-13T15:53:48Z', 'value': 0.024}},\n",
      "            {'gateError': {'date': '2018-04-13T15:53:48Z',\n",
      "                           'value': 0.0013737021608475342},\n",
      "             'name': 'Q1',\n",
      "             'readoutError': {'date': '2018-04-13T15:53:48Z', 'value': 0.026}},\n",
      "            {'gateError': {'date': '2018-04-13T15:53:48Z',\n",
      "                           'value': 0.002232583111384412},\n",
      "             'name': 'Q2',\n",
      "             'readoutError': {'date': '2018-04-13T15:53:48Z', 'value': 0.03}},\n",
      "            {'gateError': {'date': '2018-04-13T15:53:48Z',\n",
      "                           'value': 0.0017172252255832077},\n",
      "             'name': 'Q3',\n",
      "             'readoutError': {'date': '2018-04-13T15:53:48Z', 'value': 0.022}},\n",
      "            {'gateError': {'date': '2018-04-13T15:53:48Z',\n",
      "                           'value': 0.0009443532335046134},\n",
      "             'name': 'Q4',\n",
      "             'readoutError': {'date': '2018-04-13T15:53:48Z', 'value': 0.045}}]}\n",
      "{}\n",
      "{}\n",
      "{}\n",
      "{}\n"
     ]
    }
   ],
   "source": [
    "for backend in backends:\n",
    "    pprint(backend.calibration)"
   ]
  },
  {
   "cell_type": "markdown",
   "metadata": {},
   "source": [
    "### The Jobs object\n",
    "\n",
    "To get a job first we must get a qobj which is a quantum object. This is a list of circuits compiled to a backend. To get this we have made a `compile` funtion that converts an array of circuits into a `qobj`. The reason this is an array is for current hardware lists of circuits are loaded onto the equipment at once and it is much more efficent to run this in a batch mode. The methods of the jobs object are:\n",
    "\n",
    "```\n",
    "status -- returns the status.\n",
    "```\n",
    "```\n",
    "done - returns a bool true if done.\n",
    "```\n",
    "```\n",
    "job_id  - gets the job_id (not supported in the local provider yet).\n",
    "```\n",
    "```\n",
    "cancel - cancels the job (not supported on remote-public or local. Only supported on IBM Q premium devices).\n",
    "```\n",
    "```\n",
    "result - gets the results from the circuit run.\n",
    "```"
   ]
  },
  {
   "cell_type": "code",
   "execution_count": 16,
   "metadata": {},
   "outputs": [],
   "source": [
    "my_backend = get_backend('local_qasm_simulator')"
   ]
  },
  {
   "cell_type": "code",
   "execution_count": 17,
   "metadata": {},
   "outputs": [],
   "source": [
    "qr = QuantumRegister(3)\n",
    "cr = ClassicalRegister(3)\n",
    "circuit = QuantumCircuit(qr, cr)\n",
    "circuit.x(qr[0])\n",
    "circuit.x(qr[1])\n",
    "circuit.ccx(qr[0], qr[1], qr[2])\n",
    "circuit.cx(qr[0], qr[1])\n",
    "circuit.measure(qr, cr)\n",
    "\n",
    "qobj = compile(circuit, backend=my_backend)"
   ]
  },
  {
   "cell_type": "code",
   "execution_count": 18,
   "metadata": {},
   "outputs": [],
   "source": [
    "job = my_backend.run(QuantumJob(qobj, backend=my_backend, preformatted=True))"
   ]
  },
  {
   "cell_type": "code",
   "execution_count": 19,
   "metadata": {},
   "outputs": [
    {
     "data": {
      "text/plain": [
       "{'status': <JobStatus.DONE: 'job has successfully run'>, 'status_msg': None}"
      ]
     },
     "execution_count": 19,
     "metadata": {},
     "output_type": "execute_result"
    }
   ],
   "source": [
    "job.status"
   ]
  },
  {
   "cell_type": "code",
   "execution_count": 20,
   "metadata": {},
   "outputs": [
    {
     "data": {
      "text/plain": [
       "True"
      ]
     },
     "execution_count": 20,
     "metadata": {},
     "output_type": "execute_result"
    }
   ],
   "source": [
    "job.done"
   ]
  },
  {
   "cell_type": "code",
   "execution_count": 21,
   "metadata": {},
   "outputs": [
    {
     "data": {
      "text/plain": [
       "<bound method LocalJob.cancel of <qiskit.backends.local.localjob.LocalJob object at 0x150b6b8550>>"
      ]
     },
     "execution_count": 21,
     "metadata": {},
     "output_type": "execute_result"
    }
   ],
   "source": [
    "job.cancel"
   ]
  },
  {
   "cell_type": "code",
   "execution_count": 22,
   "metadata": {},
   "outputs": [
    {
     "data": {
      "text/plain": [
       "{'101': 1024}"
      ]
     },
     "execution_count": 22,
     "metadata": {},
     "output_type": "execute_result"
    }
   ],
   "source": [
    "result = job.result()\n",
    "result.get_counts(circuit)"
   ]
  },
  {
   "cell_type": "code",
   "execution_count": 23,
   "metadata": {},
   "outputs": [],
   "source": [
    "my_backend = get_backend('ibmqx4')"
   ]
  },
  {
   "cell_type": "code",
   "execution_count": 24,
   "metadata": {},
   "outputs": [],
   "source": [
    "qobj = compile(circuit, backend=my_backend)\n",
    "job = my_backend.run(QuantumJob(qobj, backend=my_backend, preformatted=True))"
   ]
  },
  {
   "cell_type": "code",
   "execution_count": 27,
   "metadata": {},
   "outputs": [
    {
     "data": {
      "text/plain": [
       "{'job_id': 'c5ba50fe3eca8a664ed73beae34466eb',\n",
       " 'status': <JobStatus.RUNNING: 'job is actively running'>,\n",
       " 'status_msg': None}"
      ]
     },
     "execution_count": 27,
     "metadata": {},
     "output_type": "execute_result"
    }
   ],
   "source": [
    "job.status"
   ]
  },
  {
   "cell_type": "code",
   "execution_count": 28,
   "metadata": {},
   "outputs": [
    {
     "data": {
      "text/plain": [
       "False"
      ]
     },
     "execution_count": 28,
     "metadata": {},
     "output_type": "execute_result"
    }
   ],
   "source": [
    "job.done"
   ]
  },
  {
   "cell_type": "code",
   "execution_count": 29,
   "metadata": {},
   "outputs": [
    {
     "data": {
      "text/plain": [
       "<bound method IBMQJob.cancel of <qiskit.backends.ibmq.ibmqjob.IBMQJob object at 0x150b738dd8>>"
      ]
     },
     "execution_count": 29,
     "metadata": {},
     "output_type": "execute_result"
    }
   ],
   "source": [
    "job.cancel"
   ]
  },
  {
   "cell_type": "code",
   "execution_count": 30,
   "metadata": {},
   "outputs": [
    {
     "data": {
      "text/plain": [
       "{'job_id': 'c5ba50fe3eca8a664ed73beae34466eb',\n",
       " 'status': <JobStatus.RUNNING: 'job is actively running'>,\n",
       " 'status_msg': None}"
      ]
     },
     "execution_count": 30,
     "metadata": {},
     "output_type": "execute_result"
    }
   ],
   "source": [
    "job.status"
   ]
  },
  {
   "cell_type": "code",
   "execution_count": 31,
   "metadata": {},
   "outputs": [],
   "source": [
    "qobj = compile(circuit, backend=my_backend)\n",
    "job = my_backend.run(QuantumJob(qobj, backend=my_backend, preformatted=True))"
   ]
  },
  {
   "cell_type": "code",
   "execution_count": 32,
   "metadata": {},
   "outputs": [
    {
     "name": "stdout",
     "output_type": "stream",
     "text": [
      "Status @ 0 seconds\n",
      "{'job_id': None, 'status': <JobStatus.INITIALIZING: 'job is being initialized'>, 'status_msg': 'job is begin initialized please wait a moment'}\n",
      "Status @ 10 seconds\n",
      "{'job_id': 'f0d4f260a1706aab8bc9ffb4ce453b00', 'queue_position': 3, 'status': <JobStatus.QUEUED: 'job is queued'>, 'status_msg': None}\n",
      "Status @ 20 seconds\n",
      "{'job_id': 'f0d4f260a1706aab8bc9ffb4ce453b00', 'status': <JobStatus.RUNNING: 'job is actively running'>, 'status_msg': None}\n",
      "Status @ 30 seconds\n",
      "{'job_id': 'f0d4f260a1706aab8bc9ffb4ce453b00', 'status': <JobStatus.RUNNING: 'job is actively running'>, 'status_msg': None}\n",
      "{'job_id': 'f0d4f260a1706aab8bc9ffb4ce453b00', 'status': <JobStatus.DONE: 'job has successfully run'>, 'status_msg': None}\n"
     ]
    }
   ],
   "source": [
    "lapse = 0\n",
    "interval = 10\n",
    "while not job.done:\n",
    "    print('Status @ {} seconds'.format(interval * lapse))\n",
    "    print(job.status)\n",
    "    time.sleep(interval)\n",
    "    lapse += 1\n",
    "print(job.status)"
   ]
  },
  {
   "cell_type": "code",
   "execution_count": 33,
   "metadata": {},
   "outputs": [
    {
     "data": {
      "text/plain": [
       "'f0d4f260a1706aab8bc9ffb4ce453b00'"
      ]
     },
     "execution_count": 33,
     "metadata": {},
     "output_type": "execute_result"
    }
   ],
   "source": [
    "job.job_id"
   ]
  },
  {
   "cell_type": "code",
   "execution_count": 34,
   "metadata": {},
   "outputs": [
    {
     "data": {
      "text/plain": [
       "{'000': 29,\n",
       " '001': 156,\n",
       " '010': 61,\n",
       " '011': 10,\n",
       " '100': 92,\n",
       " '101': 608,\n",
       " '110': 40,\n",
       " '111': 28}"
      ]
     },
     "execution_count": 34,
     "metadata": {},
     "output_type": "execute_result"
    }
   ],
   "source": [
    "result = job.result()\n",
    "result.get_counts(circuit)"
   ]
  },
  {
   "cell_type": "code",
   "execution_count": null,
   "metadata": {},
   "outputs": [],
   "source": []
  }
 ],
 "metadata": {
  "anaconda-cloud": {},
  "kernelspec": {
   "display_name": "Python (QISKitenv)",
   "language": "python",
   "name": "qiskitenv"
  },
  "language_info": {
   "codemirror_mode": {
    "name": "ipython",
    "version": 3
   },
   "file_extension": ".py",
   "mimetype": "text/x-python",
   "name": "python",
   "nbconvert_exporter": "python",
   "pygments_lexer": "ipython3",
   "version": "3.6.5"
  }
 },
 "nbformat": 4,
 "nbformat_minor": 1
}
