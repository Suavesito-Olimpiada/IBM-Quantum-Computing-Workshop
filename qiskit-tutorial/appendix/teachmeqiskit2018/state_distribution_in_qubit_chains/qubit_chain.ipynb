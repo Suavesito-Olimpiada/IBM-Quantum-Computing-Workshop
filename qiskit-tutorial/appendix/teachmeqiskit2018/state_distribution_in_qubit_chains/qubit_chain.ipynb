{
 "cells": [
  {
   "attachments": {
    "line_qubits_site1.svg": {
     "image/svg+xml": [
      "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"
     ]
    }
   },
   "cell_type": "markdown",
   "metadata": {},
   "source": [
    "# Qubit Chain\n",
    "\n",
    "![Qubit Chain](attachment:line_qubits_site1.svg)"
   ]
  },
  {
   "cell_type": "markdown",
   "metadata": {},
   "source": [
    "Here is used representation initially introduced for _perfect state transfer_. The chain with $n$ nodes is modeled by $n$ qubits. The more compact representation with $n$ qubits for a chain $N=2^n$ nodes is discussed elsewhere (_e.g._, see arXiv:1710.03615 \\[quant-ph\\](2017)).\n",
    "\n",
    "### Chain model\n",
    "\n",
    "The nodes chain are mapped into states with single unit in computational basis\n",
    "\n",
    "$$|100\\dots 0\\rangle,|010\\dots 0\\rangle,\\dots,|000\\dots1\\rangle.$$\n",
    "\n",
    "Let us denote\n",
    "\n",
    "$$|{\\underline k}\\rangle \\equiv |{\\underbrace{0\\ldots 0}_{k-1}\\,}1\\underbrace{0\\ldots 0}_{n-k}\\rangle,\n",
    "\\quad k=1,\\ldots,n.$$\n",
    "\n",
    "The method also may be extended for $m>1$ particles using states with $m$ units in computational basis. \n",
    "\n",
    "### Single link \n",
    "\n",
    "Let us start with with one particle on a chain with two nodes. By definition, the evolution may affect only states \n",
    "$|{\\underline 1}\\rangle \\equiv |10\\rangle$ and \n",
    "$|{\\underline 2}\\rangle \\equiv |01\\rangle$. \n",
    "The two-gate for such evolution is represented by some matrix\n",
    "\n",
    "$$\n",
    "M_u \\equiv \\begin{pmatrix}\n",
    "1 & 0 & 0 & 0 \\\\\n",
    "0 & u_{11} & u_{12} & 0 \\\\\n",
    "0 & u_{21} & u_{22} & 0 \\\\\n",
    "0 & 0 & 0 & 1 \n",
    "\\end{pmatrix}, \n",
    "$$\n",
    "where $u_{jk}$ is unitary matrix.\n",
    "\n",
    "The chain with two nodes corresponds to a link in a qubit chain and such a representation is directly extended into a sequence of two-qubit gates on a chain.\n",
    "\n",
    "### Relation with matchgates\n",
    "\n",
    "A _matchgate_ is defined by two unitary matrices $u$ and $u'$ with $\\det{u'}=\\det{u}$\n",
    "\n",
    "$$\n",
    "M(u,u') \\equiv \\begin{pmatrix}\n",
    "u'_{11} & 0 & 0 & u'_{12} \\\\\n",
    "0 & u_{11} & u_{12} & 0 \\\\\n",
    "0 & u_{21} & u_{22} & 0 \\\\\n",
    "u'_{21} & 0 & 0 & u'_{22} \n",
    "\\end{pmatrix}\n",
    "$$\n",
    "\n",
    "The $M_u$ is particular case of matchgate $M(u,{\\bf 1})$ with \n",
    "$u' = \\begin{pmatrix}1&0\\\\0&1\\end{pmatrix}.$ \n",
    "\n",
    "A quantum circuit with _matchgates_ acting on neighboring qubits (_aka_ matchcircuit) may be effectively modeled on a classical computer.\n",
    "So, such circuits may be used for testing of quantum computers with many qubits.\n",
    "\n",
    "The $M_u$ also respects number of units in computational basis and so can be used for modeling of distribution of states or quantum walks along a chains in agreement with model defined earlier. State distribution along a quantum network with $n$ qubits in such a case may be mapped into corresponding scalar chain with $n$ nodes.\n",
    "\n",
    "### Adaptation to QISKit\n",
    "\n",
    "Because of $\\det(u)=1$ the gate $M_u$ may be described with three angles similar with $u3$ and $C_{u3}$ gate in QISKit. \n",
    "Let us denote that as\n",
    "\n",
    "$$\n",
    "  M_u \\equiv M_{u3}(\\theta, \\phi, \\lambda)  \\equiv \n",
    "    \\begin{pmatrix}\\\n",
    "    1 & 0 & 0 & 0\\\\\n",
    "    0 & e^{-i(\\phi+\\lambda)/2}\\cos(\\theta/2) & -e^{-i(\\phi-\\lambda)/2}\\sin(\\theta/2) &  0\\\\\n",
    "   0 & e^{i(\\phi-\\lambda)/2}\\sin(\\theta/2)  & e^{i(\\phi+\\lambda)/2}\\cos(\\theta/2)    & 0\\\\\n",
    "   0 & 0 & 0 & 1\\\\\n",
    "   \\end{pmatrix}.\n",
    "$$\n",
    "\n",
    "The gate $M_{u3}$ may be written as a procedure on OpenQASM 2.0\n",
    "\n",
    "    mu3 (theta, phi, lambda) a,b {\n",
    "    cx a,b;\n",
    "    cu3 (theta,phi,lambda) b,a;\n",
    "    cx a,b;\n",
    "    }\n",
    "\n",
    "Similar method is used further with QISKit, however it may be not very optimal for hardware."
   ]
  },
  {
   "cell_type": "markdown",
   "metadata": {},
   "source": [
    "### Staggered quantum walk\n",
    "\n",
    "Let us consider as an example the staggered walk described earlier in simpler model of [scalar quantum chain](scalar_chain.ipynb). The sequences of gates representing modifications of partitions $S'_1$ and $S_2$ \n",
    "now should use $4 \\times 4$ analogues of $2 \\times 2$ matrices applied earlier to neighboring nodes of chain\n",
    "\n",
    "$$\n",
    "  m_2 \\equiv M_{i S_2} = \n",
    "    \\begin{pmatrix}\\\n",
    "    1 & 0 & 0 & 0\\\\\n",
    "    0 & 0 & i &  0\\\\\n",
    "   0 & i  & 0 & 0\\\\\n",
    "   0 & 0 & 0 & 1\\\\\n",
    "   \\end{pmatrix} = M_{u3}(\\pi/2,0,0).\n",
    "$$\n",
    "\n",
    "$$\n",
    "  m_1 \\equiv M_{S'_1} = \n",
    "    \\begin{pmatrix}\\\n",
    "    1 & 0 & 0 & 0\\\\\n",
    "    0 & 1/\\sqrt{2} & -1/\\sqrt{2} &  0\\\\\n",
    "   0 &  1/\\sqrt{2}  & ~1/\\sqrt{2} & 0\\\\\n",
    "   0 & 0 & 0 & 1\\\\\n",
    "   \\end{pmatrix} = M_{u3}(\\pi,\\pi,0).\n",
    "$$\n",
    "\n",
    "See notebook with [modeling of qubit chain](qubit_chain_mod.ipynb) using QISKit."
   ]
  }
 ],
 "metadata": {
  "kernelspec": {
   "display_name": "QISKitenv",
   "language": "python",
   "name": "qiskitenv"
  },
  "language_info": {
   "codemirror_mode": {
    "name": "ipython",
    "version": 3
   },
   "file_extension": ".py",
   "mimetype": "text/x-python",
   "name": "python",
   "nbconvert_exporter": "python",
   "pygments_lexer": "ipython3",
   "version": "3.6.2"
  }
 },
 "nbformat": 4,
 "nbformat_minor": 2
}
