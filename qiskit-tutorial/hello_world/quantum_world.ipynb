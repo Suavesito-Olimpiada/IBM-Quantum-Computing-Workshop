{
 "cells": [
  {
   "cell_type": "markdown",
   "metadata": {},
   "source": [
    "<img src=\"../images/qiskit-heading.gif\" alt=\"Note: In order for images to show up in this jupyter notebook you need to select File => Trusted Notebook\" width=\"500 px\" align=\"left\">"
   ]
  },
  {
   "cell_type": "markdown",
   "metadata": {},
   "source": [
    "## _*Quantum World*_ \n",
    "\n",
    "The latest version of this notebook is available on https://github.com/QISKit/qiskit-tutorial.\n",
    "\n",
    "***\n",
    "### Contributors\n",
    "Jay Gambetta and Ismael Faro"
   ]
  },
  {
   "cell_type": "code",
   "execution_count": 1,
   "metadata": {},
   "outputs": [
    {
     "name": "stdout",
     "output_type": "stream",
     "text": [
      "Please input your token and hit enter: ········\n",
      "\n",
      "You have access to great power!\n",
      "['ibmqx5', 'ibmqx2', 'ibmqx4']\n"
     ]
    }
   ],
   "source": [
    "import getpass, time\n",
    "from qiskit import ClassicalRegister, QuantumRegister\n",
    "from qiskit import QuantumCircuit,  available_backends, execute, register, get_backend\n",
    "\n",
    "# import basic plot tools\n",
    "from qiskit.tools.visualization import plot_histogram, circuit_drawer\n",
    "\n",
    "APItoken = getpass.getpass('Please input your token and hit enter: ')\n",
    "qx_config = {\n",
    "    \"APItoken\": APItoken,\n",
    "    \"url\":\"https://quantumexperience.ng.bluemix.net/api\"}\n",
    "\n",
    "try:\n",
    "    register(qx_config['APItoken'], qx_config['url'])\n",
    "\n",
    "    print('\\nYou have access to great power!')\n",
    "    print(available_backends({'local': False, 'simulator': False}))\n",
    "except: \n",
    "    print('Something went wrong.\\nDid you enter a correct token?')"
   ]
  },
  {
   "cell_type": "code",
   "execution_count": 2,
   "metadata": {},
   "outputs": [
    {
     "name": "stdout",
     "output_type": "stream",
     "text": [
      "The best backend is ibmqx5\n"
     ]
    }
   ],
   "source": [
    "def lowest_pending_jobs():\n",
    "    \"\"\"Returns the backend with lowest pending jobs.\"\"\"\n",
    "    list_of_backends = available_backends(\n",
    "        {'local': False, 'simulator': False})\n",
    "    device_status = [get_backend(backend).status\n",
    "                     for backend in list_of_backends]\n",
    "\n",
    "    best = min([x for x in device_status if x['available'] is True],\n",
    "               key=lambda x: x['pending_jobs'])\n",
    "    return best['name']\n",
    "\n",
    "backend = lowest_pending_jobs()\n",
    "print(\"The best backend is \" + backend)"
   ]
  },
  {
   "cell_type": "code",
   "execution_count": 3,
   "metadata": {
    "scrolled": true
   },
   "outputs": [
    {
     "name": "stdout",
     "output_type": "stream",
     "text": [
      "Status @ 0 seconds\n",
      "{'job_id': None, 'status': <JobStatus.INITIALIZING: 'job is being initialized'>, 'status_msg': 'job is begin initialized please wait a moment'}\n",
      "Status @ 10 seconds\n",
      "{'job_id': '5b17de8294465d003da4697e', 'queue_position': 3, 'status': <JobStatus.QUEUED: 'job is queued'>, 'status_msg': None}\n",
      "Status @ 20 seconds\n",
      "{'job_id': '5b17de8294465d003da4697e', 'queue_position': 3, 'status': <JobStatus.QUEUED: 'job is queued'>, 'status_msg': None}\n",
      "Status @ 30 seconds\n",
      "{'job_id': '5b17de8294465d003da4697e', 'queue_position': 3, 'status': <JobStatus.QUEUED: 'job is queued'>, 'status_msg': None}\n",
      "Status @ 40 seconds\n",
      "{'job_id': '5b17de8294465d003da4697e', 'queue_position': 3, 'status': <JobStatus.QUEUED: 'job is queued'>, 'status_msg': None}\n",
      "Status @ 50 seconds\n",
      "{'job_id': '5b17de8294465d003da4697e', 'status': <JobStatus.RUNNING: 'job is actively running'>, 'status_msg': None}\n",
      "{'job_id': '5b17de8294465d003da4697e', 'status': <JobStatus.DONE: 'job has successfully run'>, 'status_msg': None}\n"
     ]
    }
   ],
   "source": [
    "q = QuantumRegister(2)\n",
    "c = ClassicalRegister(2)\n",
    "qc = QuantumCircuit(q, c)\n",
    "qc.h(q[0])\n",
    "qc.cx(q[0], q[1])\n",
    "qc.measure(q, c)\n",
    "job_exp = execute(qc, backend=backend, shots=1024, max_credits=3)\n",
    "\n",
    "lapse = 0\n",
    "interval = 10\n",
    "while not job_exp.done:\n",
    "    print('Status @ {} seconds'.format(interval * lapse))\n",
    "    print(job_exp.status)\n",
    "    time.sleep(interval)\n",
    "    lapse += 1\n",
    "print(job_exp.status)"
   ]
  },
  {
   "cell_type": "code",
   "execution_count": 4,
   "metadata": {},
   "outputs": [
    {
     "data": {
      "image/png": "[encoded data removed]",
      "text/plain": [
       "<matplotlib.figure.Figure at 0x10cb33278>"
      ]
     },
     "metadata": {},
     "output_type": "display_data"
    },
    {
     "name": "stdout",
     "output_type": "stream",
     "text": [
      "You have made entanglement!\n"
     ]
    }
   ],
   "source": [
    "plot_histogram(job_exp.result().get_counts(qc))\n",
    "\n",
    "print('You have made entanglement!')"
   ]
  },
  {
   "cell_type": "markdown",
   "metadata": {},
   "source": [
    "The circuit that was run on the machine is"
   ]
  },
  {
   "cell_type": "code",
   "execution_count": 5,
   "metadata": {},
   "outputs": [
    {
     "data": {
      "image/png": "[encoded data removed]",
      "text/plain": [
       "<PIL.Image.Image image mode=RGB size=436x182 at 0x10CF33898>"
      ]
     },
     "execution_count": 5,
     "metadata": {},
     "output_type": "execute_result"
    }
   ],
   "source": [
    "circuit_drawer(qc)"
   ]
  },
  {
   "cell_type": "code",
   "execution_count": null,
   "metadata": {},
   "outputs": [],
   "source": []
  }
 ],
 "metadata": {
  "kernelspec": {
   "display_name": "Python 3",
   "language": "python",
   "name": "python3"
  },
  "language_info": {
   "codemirror_mode": {
    "name": "ipython",
    "version": 3
   },
   "file_extension": ".py",
   "mimetype": "text/x-python",
   "name": "python",
   "nbconvert_exporter": "python",
   "pygments_lexer": "ipython3",
   "version": "3.6.4"
  }
 },
 "nbformat": 4,
 "nbformat_minor": 2
}
